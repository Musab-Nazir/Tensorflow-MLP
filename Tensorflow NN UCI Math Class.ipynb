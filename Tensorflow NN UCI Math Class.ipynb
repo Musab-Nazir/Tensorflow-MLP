{
 "cells": [
  {
   "cell_type": "code",
   "execution_count": 1,
   "metadata": {},
   "outputs": [],
   "source": [
    "import tensorflow as tf\n",
    "import pandas as pd\n",
    "from sklearn.preprocessing import MinMaxScaler"
   ]
  },
  {
   "cell_type": "markdown",
   "metadata": {},
   "source": [
    "## Import and clean the dataset"
   ]
  },
  {
   "cell_type": "code",
   "execution_count": 2,
   "metadata": {},
   "outputs": [
    {
     "data": {
      "text/plain": [
       "(395, 33)"
      ]
     },
     "execution_count": 2,
     "metadata": {},
     "output_type": "execute_result"
    }
   ],
   "source": [
    "#Import the dataset for Math class\n",
    "X_train = pd.read_csv(\"student-mat.csv\", sep=\";\")\n",
    "X_train.shape"
   ]
  },
  {
   "cell_type": "code",
   "execution_count": 3,
   "metadata": {},
   "outputs": [],
   "source": [
    "#a function to onehot encode the dataset\n",
    "def OneHot(dataset):\n",
    "    #One-hot encode\n",
    "    #seperate columns that have numerical data and categorical data. \n",
    "    num_col = dataset._get_numeric_data().columns\n",
    "    cat_col = list(set(dataset.columns) - set(num_col))\n",
    "    \n",
    "    dataset = pd.get_dummies(dataset, columns =cat_col, drop_first = True)\n",
    "       \n",
    "    return dataset"
   ]
  },
  {
   "cell_type": "code",
   "execution_count": 4,
   "metadata": {},
   "outputs": [],
   "source": [
    "X_train = OneHot(X_train)\n",
    "Y_train = X_train[[\"G3\"]].values\n",
    "X_train = X_train.drop(\"G3\", axis=1).values"
   ]
  },
  {
   "cell_type": "code",
   "execution_count": 5,
   "metadata": {},
   "outputs": [
    {
     "name": "stderr",
     "output_type": "stream",
     "text": [
      "C:\\Users\\TimeL\\Anaconda3\\envs\\tensorflow\\lib\\site-packages\\sklearn\\utils\\validation.py:475: DataConversionWarning: Data with input dtype int64 was converted to float64 by MinMaxScaler.\n",
      "  warnings.warn(msg, DataConversionWarning)\n"
     ]
    }
   ],
   "source": [
    "#instantiate the scaler object and scale the training dataset\n",
    "scaler = MinMaxScaler(feature_range=(0,1))\n",
    "X_train = scaler.fit_transform(X_train)\n",
    "Y_train = scaler.fit_transform(Y_train)"
   ]
  },
  {
   "cell_type": "markdown",
   "metadata": {},
   "source": [
    "## Define the NN model"
   ]
  },
  {
   "cell_type": "code",
   "execution_count": 6,
   "metadata": {},
   "outputs": [],
   "source": [
    "#parameters used to define the tensorflow NN model\n",
    "learning_rate = 0.001\n",
    "epochs = 100   #training iterations\n",
    "dropout = 0.8  #percentage of neurons to keep from dropout\n",
    "\n",
    "inputNodes = X_train.shape[1]   #number of input features\n",
    "outputNodes = Y_train.shape[1]  #output labels being predicted\n",
    "\n",
    "layer1_size = 50\n",
    "layer2_size = 100\n",
    "layer3_size = 50"
   ]
  },
  {
   "cell_type": "code",
   "execution_count": 7,
   "metadata": {},
   "outputs": [],
   "source": [
    "#Input layer\n",
    "with tf.variable_scope('input'):\n",
    "    X = tf.placeholder(tf.float32, shape=(None, inputNodes))\n",
    "\n",
    "# Hidden Layer 1\n",
    "with tf.variable_scope('layer_1'):\n",
    "    weights = tf.get_variable(\"weights1\", shape=[inputNodes, layer1_size], initializer=tf.contrib.layers.xavier_initializer())\n",
    "    biases = tf.get_variable(name=\"biases1\", shape=[layer1_size], initializer=tf.zeros_initializer())\n",
    "    layer_1_output = tf.nn.relu(tf.matmul(X, weights) + biases)\n",
    "    layer_1_output = tf.nn.dropout(layer_1_output, keep_prob = dropout)\n",
    "\n",
    "# Hidden Layer 2\n",
    "with tf.variable_scope('layer_2'):\n",
    "    weights = tf.get_variable(\"weights2\", shape=[layer1_size, layer2_size], initializer=tf.contrib.layers.xavier_initializer())\n",
    "    biases = tf.get_variable(name=\"biases2\", shape=[layer2_size], initializer=tf.zeros_initializer())\n",
    "    layer_2_output = tf.nn.relu(tf.matmul(layer_1_output, weights) + biases)\n",
    "    layer_2_output = tf.nn.dropout(layer_2_output, keep_prob = dropout)\n",
    "\n",
    "# Hidden Layer 3\n",
    "with tf.variable_scope('layer_3'):\n",
    "    weights = tf.get_variable(\"weights3\", shape=[layer2_size, layer3_size], initializer=tf.contrib.layers.xavier_initializer())\n",
    "    biases = tf.get_variable(name=\"biases3\", shape=[layer3_size], initializer=tf.zeros_initializer())\n",
    "    layer_3_output = tf.nn.relu(tf.matmul(layer_2_output, weights) + biases)\n",
    "    layer_3_output = tf.nn.dropout(layer_3_output, keep_prob = dropout)\n",
    "\n",
    "# Output Layer\n",
    "with tf.variable_scope('output'):\n",
    "    weights = tf.get_variable(\"weights4\", shape=[layer3_size, outputNodes], initializer=tf.contrib.layers.xavier_initializer())\n",
    "    biases = tf.get_variable(name=\"biases4\", shape=[outputNodes], initializer=tf.zeros_initializer())\n",
    "    prediction = tf.matmul(layer_3_output, weights) + biases"
   ]
  },
  {
   "cell_type": "code",
   "execution_count": 8,
   "metadata": {},
   "outputs": [],
   "source": [
    "# Define the cost and train functions\n",
    "with tf.variable_scope('cost'):\n",
    "    Y = tf.placeholder(tf.float32, shape=(None, 1))\n",
    "    cost = tf.reduce_mean(tf.squared_difference(prediction, Y))\n",
    "\n",
    "# Define the optimizer function that will be run to optimize the neural network\n",
    "with tf.variable_scope('train'):\n",
    "    optimizer = tf.train.AdamOptimizer(learning_rate).minimize(cost)\n"
   ]
  },
  {
   "cell_type": "markdown",
   "metadata": {},
   "source": [
    "## Train the model"
   ]
  },
  {
   "cell_type": "code",
   "execution_count": 9,
   "metadata": {},
   "outputs": [
    {
     "name": "stdout",
     "output_type": "stream",
     "text": [
      "0 0.3135015\n",
      "5 0.1219297\n",
      "10 0.11123484\n",
      "15 0.08223857\n",
      "20 0.071259975\n",
      "25 0.06525059\n",
      "30 0.0597432\n",
      "35 0.06154408\n",
      "40 0.058933325\n",
      "45 0.054409157\n",
      "50 0.055719994\n",
      "55 0.048371684\n",
      "60 0.044485513\n",
      "65 0.04812342\n",
      "70 0.048279718\n",
      "75 0.04398458\n",
      "80 0.047589213\n",
      "85 0.043088358\n",
      "90 0.041406985\n",
      "95 0.0386762\n",
      "Training is complete!\n"
     ]
    }
   ],
   "source": [
    "# Run the session to train\n",
    "with tf.Session() as session:\n",
    "    # Initialize all the variables\n",
    "    session.run(tf.global_variables_initializer())\n",
    "    \n",
    "    for epoch in range (epochs):\n",
    "        # run the optimizer and display cost\n",
    "        session.run(optimizer, feed_dict={X: X_train, Y: Y_train})\n",
    "        \n",
    "        # Every 5 training steps, log our progress\n",
    "        if epoch % 5 == 0:\n",
    "            training_cost = session.run(cost, feed_dict={X: X_train, Y:Y_train})\n",
    "            print(epoch, training_cost)\n",
    "\n",
    "    # Training is now complete!\n",
    "    print(\"Training is complete!\")\n",
    "    session.close()"
   ]
  },
  {
   "cell_type": "code",
   "execution_count": null,
   "metadata": {},
   "outputs": [],
   "source": []
  }
 ],
 "metadata": {
  "kernelspec": {
   "display_name": "Python 3",
   "language": "python",
   "name": "python3"
  },
  "language_info": {
   "codemirror_mode": {
    "name": "ipython",
    "version": 3
   },
   "file_extension": ".py",
   "mimetype": "text/x-python",
   "name": "python",
   "nbconvert_exporter": "python",
   "pygments_lexer": "ipython3",
   "version": "3.5.4"
  }
 },
 "nbformat": 4,
 "nbformat_minor": 2
}
